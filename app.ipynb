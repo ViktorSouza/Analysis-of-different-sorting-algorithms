{
 "cells": [
  {
   "cell_type": "code",
   "execution_count": 86,
   "metadata": {},
   "outputs": [],
   "source": [
    "import matplotlib.pyplot as plt\n",
    "from random import random\n",
    "from random import randint\n",
    "from sys import platform\n",
    "import time\n",
    "\n",
    "mytime = time.perf_counter\n"
   ]
  },
  {
   "cell_type": "code",
   "execution_count": 28,
   "metadata": {},
   "outputs": [],
   "source": [
    "def bubble(V, n):\n",
    "    global iti\n",
    "    lim = n - 1\n",
    "    while lim >= 0:\n",
    "        isIncreasing = True\n",
    "        for j in range(lim):\n",
    "            iti+=1\n",
    "            if V[j] > V[j + 1]:\n",
    "                isIncreasing = False\n",
    "                V[j], V[j + 1] = V[j + 1], V[j]\n",
    "        if(isIncreasing==True): \n",
    "                break\n",
    "        lim -= 1"
   ]
  },
  {
   "cell_type": "code",
   "execution_count": 104,
   "metadata": {},
   "outputs": [],
   "source": [
    "def embaralha(V, n, p):\n",
    "    for _ in range(int(n * p / 2)):\n",
    "        num1 = randint(0, n - 1)\n",
    "        num2 = randint(0, n - 1)\n",
    "        V[num1], V[num2] = V[num2], V[num1]"
   ]
  },
  {
   "cell_type": "code",
   "execution_count": 109,
   "metadata": {},
   "outputs": [
    {
     "name": "stdout",
     "output_type": "stream",
     "text": [
      "uga\n"
     ]
    },
    {
     "data": {
      "text/plain": [
       "611.7122622999959"
      ]
     },
     "execution_count": 109,
     "metadata": {},
     "output_type": "execute_result"
    }
   ],
   "source": [
    "iti = 0\n",
    "V = [_ for _ in range(90000)]\n",
    "embaralha(V,len(V),0.001)\n",
    "print('uga')\n",
    "start = mytime()\n",
    "bubble(V, len(V))\n",
    "end = mytime()\n",
    "end-start"
   ]
  }
 ],
 "metadata": {
  "kernelspec": {
   "display_name": "Python 3",
   "language": "python",
   "name": "python3"
  },
  "language_info": {
   "codemirror_mode": {
    "name": "ipython",
    "version": 3
   },
   "file_extension": ".py",
   "mimetype": "text/x-python",
   "name": "python",
   "nbconvert_exporter": "python",
   "pygments_lexer": "ipython3",
   "version": "3.10.11"
  }
 },
 "nbformat": 4,
 "nbformat_minor": 2
}
