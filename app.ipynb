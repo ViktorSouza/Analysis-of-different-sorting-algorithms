{
 "cells": [
  {
   "cell_type": "code",
   "execution_count": 106,
   "metadata": {},
   "outputs": [],
   "source": [
    "import matplotlib.pyplot as plt\n",
    "from random import random\n",
    "from random import randint\n",
    "from sys import platform\n",
    "import time\n"
   ]
  },
  {
   "cell_type": "code",
   "execution_count": 3,
   "metadata": {},
   "outputs": [
    {
     "data": {
      "text/plain": [
       "<function Random.random()>"
      ]
     },
     "execution_count": 3,
     "metadata": {},
     "output_type": "execute_result"
    }
   ],
   "source": [
    "def mediaV(V,n):\n",
    "    values_sum = 0;\n",
    "    for num in V:\n",
    "        values_sum+= num\n",
    "    return values_sum/n\n",
    "def varV(V,n):\n",
    "    avg = mediaV(V,n)\n",
    "    std = 0\n",
    "    for num in V:\n",
    "        std+=(num - avg)**2\n",
    "    std = std/n\n",
    "    std = std**(1/2)\n",
    "    "
   ]
  },
  {
   "cell_type": "code",
   "execution_count": 4,
   "metadata": {},
   "outputs": [
    {
     "name": "stdout",
     "output_type": "stream",
     "text": [
      "[1, 2, 3, 4, 21, 23, 23, 34, 34, 41, 41, 123, 1235]\n"
     ]
    }
   ],
   "source": [
    "def selection(V,n):\n",
    "    for i in range(0,n):\n",
    "        smallest_num_index = i\n",
    "        for j in range(i,n):\n",
    "            if(V[j]<V[smallest_num_index]):\n",
    "                smallest_num_index = j\n",
    "        V[i], V[smallest_num_index] = V[smallest_num_index],V[i]\n",
    "         \n"
   ]
  },
  {
   "cell_type": "code",
   "execution_count": 226,
   "metadata": {},
   "outputs": [],
   "source": [
    "def bubble(V,n):\n",
    "    lim = n-1\n",
    "    while(lim>=0):\n",
    "        for j in range(lim):\n",
    "            if(V[j]>V[j+1]):\n",
    "                V[j],V[j+1] = V[j+1],V[j]\n",
    "        lim-=1\n",
    "\n"
   ]
  },
  {
   "cell_type": "code",
   "execution_count": 100,
   "metadata": {},
   "outputs": [],
   "source": [
    "def insertion(V,n):\n",
    "    last_index = 0\n",
    "    for i in range(n-1):\n",
    "        if(V[i]>V[i+1]):\n",
    "            j = i\n",
    "            while(V[j]>V[j+1]):\n",
    "                V[j+1],V[j] = V[j],V[j+1]\n",
    "                j-=1\n",
    "                if(j<0):\n",
    "                    break\n",
    "        else:\n",
    "             last_index+=1"
   ]
  },
  {
   "cell_type": "code",
   "execution_count": 168,
   "metadata": {},
   "outputs": [
    {
     "name": "stdout",
     "output_type": "stream",
     "text": [
      "[68, 25, 78, 16, 31, 71, 86, 45, 55, 44, 0, 13, 46, 22, 29, 35, 67, 13, 26, 60, 14, 55, 8, 58, 84, 36, 29, 14, 53, 8, 81, 33, 76, 28, 66, 80, 67, 83, 65, 48, 42, 72, 23, 7, 40, 55, 59, 32, 33, 93]\n",
      "[0, 7, 8, 8, 13, 13, 14, 14, 16, 22, 23, 25, 26, 28, 29, 29, 31, 32, 33, 33, 35, 36, 40, 42, 44, 45, 46, 48, 53, 55, 55, 55, 58, 59, 60, 65, 66, 67, 67, 68, 71, 72, 76, 78, 80, 81, 83, 84, 86, 93]\n",
      "0.0003555999992386205\n"
     ]
    }
   ],
   "source": [
    "n = 50\n",
    " # Vamos usar a tecnica das List comprehension\n",
    "V = [randint(0,99) for i in range(n)]\n",
    "if(platform.startswith('win')):\n",
    "        mytime = time.perf_counter\n",
    "else:\n",
    "        mytime = time.time\n",
    "\n",
    "print(V)\n",
    "start = mytime()\n",
    "insertion(V,n)\n",
    "end = mytime()\n",
    "print(V)\n",
    "print(end-start)\n"
   ]
  },
  {
   "cell_type": "code",
   "execution_count": 174,
   "metadata": {},
   "outputs": [],
   "source": [
    "def shuffleV(V,n,percent):\n",
    "    for num in range(int(n*percent)):\n",
    "        num1 = randint(0,n-1)\n",
    "        num2 = randint(0,n-1)\n",
    "        V[num1],V[num2] = V[num2],V[num1]"
   ]
  },
  {
   "cell_type": "code",
   "execution_count": 260,
   "metadata": {},
   "outputs": [
    {
     "data": {
      "image/png": "[encoded data removed]",
      "text/plain": [
       "<Figure size 640x480 with 1 Axes>"
      ]
     },
     "metadata": {},
     "output_type": "display_data"
    }
   ],
   "source": [
    "iti = 10;\n",
    "peformance = [[] for i in range(iti)]\n",
    "n = 1000\n",
    "for i in range(iti):\n",
    "        for j in range(iti):\n",
    "                V = [i for i in range(n)]\n",
    "                if(platform.startswith('win')):\n",
    "                        mytime = time.perf_counter\n",
    "                else:\n",
    "                        mytime = time.time\n",
    "\n",
    "                shuffleV(V,len(V),j/iti)\n",
    "                start = mytime()\n",
    "                insertion(V,n)\n",
    "                end = mytime()\n",
    "                peformance[j].append(end-start)\n",
    "avg = [0 for i in range(iti)]\n",
    "for i in range(iti):\n",
    "        for j in range(iti):\n",
    "                avg[j] += peformance[j][i]\n",
    "        \n",
    "# avg = avg/iti\n",
    "plt.plot(avg)\n",
    "plt.show()\n"
   ]
  }
 ],
 "metadata": {
  "kernelspec": {
   "display_name": "Python 3",
   "language": "python",
   "name": "python3"
  },
  "language_info": {
   "codemirror_mode": {
    "name": "ipython",
    "version": 3
   },
   "file_extension": ".py",
   "mimetype": "text/x-python",
   "name": "python",
   "nbconvert_exporter": "python",
   "pygments_lexer": "ipython3",
   "version": "3.10.11"
  }
 },
 "nbformat": 4,
 "nbformat_minor": 2
}
