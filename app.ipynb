{
 "cells": [
  {
   "cell_type": "code",
   "execution_count": 2,
   "metadata": {},
   "outputs": [],
   "source": [
    "import matplotlib.pyplot as plt\n",
    "from random import random\n",
    "from random import randint\n",
    "from sys import platform\n",
    "import time\n",
    "\n",
    "mytime = time.perf_counter\n"
   ]
  },
  {
   "cell_type": "code",
   "execution_count": 3,
   "metadata": {},
   "outputs": [
    {
     "name": "stdout",
     "output_type": "stream",
     "text": [
      "5050\n",
      "5050.0\n"
     ]
    }
   ],
   "source": [
    "iti = 0\n",
    "n = 100\n",
    "V = [randint(0,999)for _ in range(n)]\n",
    "def selection(V):\n",
    "    global iti\n",
    "    for i in range(0, n):\n",
    "        smallest_num_index = i\n",
    "        \n",
    "        for j in range(i, n):\n",
    "            iti+=1\n",
    "            if V[j] < V[smallest_num_index]:\n",
    "                smallest_num_index = j\n",
    "        V[i], V[smallest_num_index] = V[smallest_num_index], V[i]\n",
    "selection(V)\n",
    "print(iti)\n",
    "print(n*(n+1)/2)"
   ]
  },
  {
   "cell_type": "code",
   "execution_count": 1,
   "metadata": {},
   "outputs": [],
   "source": [
    "def count_element_in_array(n, V):\n",
    "    result = 0\n",
    "    for i in V:\n",
    "        if i == n:\n",
    "            result += 1\n",
    "    return result"
   ]
  },
  {
   "cell_type": "code",
   "execution_count": 7,
   "metadata": {},
   "outputs": [],
   "source": [
    "def counting(V, n):\n",
    "    print(\"Aux\")\n",
    "    max_element = max(V)\n",
    "    hist_list = [0 for _ in range(max_element + 1)]\n",
    "    for i in range(max_element + 1):\n",
    "        print(hist_list)\n",
    "        hist_list[i] = count_element_in_array(i, V)\n",
    "    print(hist_list)\n",
    "    print('M')\n",
    "    index = 0\n",
    "    for i in range(max_element + 1):\n",
    "        for _ in range(hist_list[i]):\n",
    "            print(V)\n",
    "            V[index] = i\n",
    "            index += 1\n",
    "    print(V)"
   ]
  },
  {
   "cell_type": "code",
   "execution_count": 8,
   "metadata": {},
   "outputs": [
    {
     "name": "stdout",
     "output_type": "stream",
     "text": [
      "Aux\n",
      "[0, 0, 0, 0, 0]\n",
      "[1, 0, 0, 0, 0]\n",
      "[1, 1, 0, 0, 0]\n",
      "[1, 1, 3, 0, 0]\n",
      "[1, 1, 3, 1, 0]\n",
      "[1, 1, 3, 1, 2]\n",
      "M\n",
      "[4, 2, 3, 1, 4, 2, 2, 0]\n",
      "[0, 2, 3, 1, 4, 2, 2, 0]\n",
      "[0, 1, 3, 1, 4, 2, 2, 0]\n",
      "[0, 1, 2, 1, 4, 2, 2, 0]\n",
      "[0, 1, 2, 2, 4, 2, 2, 0]\n",
      "[0, 1, 2, 2, 2, 2, 2, 0]\n",
      "[0, 1, 2, 2, 2, 3, 2, 0]\n",
      "[0, 1, 2, 2, 2, 3, 4, 0]\n",
      "[0, 1, 2, 2, 2, 3, 4, 4]\n"
     ]
    }
   ],
   "source": [
    "M = [4,2,3,1,4,2,2,0]\n",
    "counting(M,len(M))\n"
   ]
  },
  {
   "cell_type": "code",
   "execution_count": 4,
   "metadata": {},
   "outputs": [
    {
     "data": {
      "text/plain": [
       "5"
      ]
     },
     "execution_count": 4,
     "metadata": {},
     "output_type": "execute_result"
    }
   ],
   "source": [
    "def bubble(V, n):\n",
    "    iti = 0\n",
    "    lim = n - 1\n",
    "\n",
    "    while lim >= 0:\n",
    "        iti+=1\n",
    "        isIncreasing = True\n",
    "        for j in range(lim):\n",
    "            if V[j] > V[j + 1]:\n",
    "                isIncreasing = False\n",
    "                V[j], V[j + 1] = V[j + 1], V[j]\n",
    "        if isIncreasing == True:\n",
    "            break\n",
    "        lim -= 1\n",
    "    return iti\n",
    "bubble([4,3,2,1,0],5)"
   ]
  },
  {
   "cell_type": "code",
   "execution_count": null,
   "metadata": {},
   "outputs": [],
   "source": []
  }
 ],
 "metadata": {
  "kernelspec": {
   "display_name": "Python 3",
   "language": "python",
   "name": "python3"
  },
  "language_info": {
   "codemirror_mode": {
    "name": "ipython",
    "version": 3
   },
   "file_extension": ".py",
   "mimetype": "text/x-python",
   "name": "python",
   "nbconvert_exporter": "python",
   "pygments_lexer": "ipython3",
   "version": "3.10.11"
  }
 },
 "nbformat": 4,
 "nbformat_minor": 2
}
