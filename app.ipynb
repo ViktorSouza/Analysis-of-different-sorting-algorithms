{
 "cells": [
  {
   "cell_type": "code",
   "execution_count": 2,
   "metadata": {},
   "outputs": [],
   "source": [
    "import matplotlib.pyplot as plt\n",
    "from random import random\n",
    "from random import randint\n",
    "from sys import platform\n",
    "import time\n",
    "\n",
    "mytime = time.perf_counter\n"
   ]
  },
  {
   "cell_type": "code",
   "execution_count": 12,
   "metadata": {},
   "outputs": [
    {
     "name": "stdout",
     "output_type": "stream",
     "text": [
      "5050\n",
      "5050.0\n"
     ]
    }
   ],
   "source": [
    "iti = 0\n",
    "n = 100\n",
    "V = [randint(0,999)for _ in range(n)]\n",
    "def selection(V):\n",
    "    global iti\n",
    "    for i in range(0, n):\n",
    "        smallest_num_index = i\n",
    "        \n",
    "        for j in range(i, n):\n",
    "            iti+=1\n",
    "            if V[j] < V[smallest_num_index]:\n",
    "                smallest_num_index = j\n",
    "        V[i], V[smallest_num_index] = V[smallest_num_index], V[i]\n",
    "selection(V)\n",
    "print(iti)\n",
    "print(n*(n+1)/2)"
   ]
  }
 ],
 "metadata": {
  "kernelspec": {
   "display_name": "Python 3",
   "language": "python",
   "name": "python3"
  },
  "language_info": {
   "codemirror_mode": {
    "name": "ipython",
    "version": 3
   },
   "file_extension": ".py",
   "mimetype": "text/x-python",
   "name": "python",
   "nbconvert_exporter": "python",
   "pygments_lexer": "ipython3",
   "version": "3.10.11"
  }
 },
 "nbformat": 4,
 "nbformat_minor": 2
}
